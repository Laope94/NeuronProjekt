{
  "cells": [
    {
      "metadata": {
        "trusted": true
      },
      "cell_type": "code",
      "source": "import pandas as pan\nimport numpy as np\nfrom keras.models import Sequential\nfrom keras.layers import Dense\nfrom keras.utils import np_utils\nfrom keras.utils import to_categorical\nfrom sklearn.metrics import confusion_matrix",
      "execution_count": 42,
      "outputs": []
    },
    {
      "metadata": {
        "trusted": true
      },
      "cell_type": "code",
      "source": "mushroomsDataset = pan.read_csv('mushrooms.csv')\nmushroomsDataset.describe()",
      "execution_count": 2,
      "outputs": [
        {
          "output_type": "execute_result",
          "execution_count": 2,
          "data": {
            "text/html": "<div>\n<style scoped>\n    .dataframe tbody tr th:only-of-type {\n        vertical-align: middle;\n    }\n\n    .dataframe tbody tr th {\n        vertical-align: top;\n    }\n\n    .dataframe thead th {\n        text-align: right;\n    }\n</style>\n<table border=\"1\" class=\"dataframe\">\n  <thead>\n    <tr style=\"text-align: right;\">\n      <th></th>\n      <th>class</th>\n      <th>cap-shape</th>\n      <th>cap-surface</th>\n      <th>cap-color</th>\n      <th>bruises</th>\n      <th>odor</th>\n      <th>gill-attachment</th>\n      <th>gill-spacing</th>\n      <th>gill-size</th>\n      <th>gill-color</th>\n      <th>...</th>\n      <th>stalk-surface-below-ring</th>\n      <th>stalk-color-above-ring</th>\n      <th>stalk-color-below-ring</th>\n      <th>veil-type</th>\n      <th>veil-color</th>\n      <th>ring-number</th>\n      <th>ring-type</th>\n      <th>spore-print-color</th>\n      <th>population</th>\n      <th>habitat</th>\n    </tr>\n  </thead>\n  <tbody>\n    <tr>\n      <th>count</th>\n      <td>8124</td>\n      <td>8124</td>\n      <td>8124</td>\n      <td>8124</td>\n      <td>8124</td>\n      <td>8124</td>\n      <td>8124</td>\n      <td>8124</td>\n      <td>8124</td>\n      <td>8124</td>\n      <td>...</td>\n      <td>8124</td>\n      <td>8124</td>\n      <td>8124</td>\n      <td>8124</td>\n      <td>8124</td>\n      <td>8124</td>\n      <td>8124</td>\n      <td>8124</td>\n      <td>8124</td>\n      <td>8124</td>\n    </tr>\n    <tr>\n      <th>unique</th>\n      <td>2</td>\n      <td>6</td>\n      <td>4</td>\n      <td>10</td>\n      <td>2</td>\n      <td>9</td>\n      <td>2</td>\n      <td>2</td>\n      <td>2</td>\n      <td>12</td>\n      <td>...</td>\n      <td>4</td>\n      <td>9</td>\n      <td>9</td>\n      <td>1</td>\n      <td>4</td>\n      <td>3</td>\n      <td>5</td>\n      <td>9</td>\n      <td>6</td>\n      <td>7</td>\n    </tr>\n    <tr>\n      <th>top</th>\n      <td>e</td>\n      <td>x</td>\n      <td>y</td>\n      <td>n</td>\n      <td>f</td>\n      <td>n</td>\n      <td>f</td>\n      <td>c</td>\n      <td>b</td>\n      <td>b</td>\n      <td>...</td>\n      <td>s</td>\n      <td>w</td>\n      <td>w</td>\n      <td>p</td>\n      <td>w</td>\n      <td>o</td>\n      <td>p</td>\n      <td>w</td>\n      <td>v</td>\n      <td>d</td>\n    </tr>\n    <tr>\n      <th>freq</th>\n      <td>4208</td>\n      <td>3656</td>\n      <td>3244</td>\n      <td>2284</td>\n      <td>4748</td>\n      <td>3528</td>\n      <td>7914</td>\n      <td>6812</td>\n      <td>5612</td>\n      <td>1728</td>\n      <td>...</td>\n      <td>4936</td>\n      <td>4464</td>\n      <td>4384</td>\n      <td>8124</td>\n      <td>7924</td>\n      <td>7488</td>\n      <td>3968</td>\n      <td>2388</td>\n      <td>4040</td>\n      <td>3148</td>\n    </tr>\n  </tbody>\n</table>\n<p>4 rows × 23 columns</p>\n</div>",
            "text/plain": "       class cap-shape cap-surface cap-color bruises  odor gill-attachment  \\\ncount   8124      8124        8124      8124    8124  8124            8124   \nunique     2         6           4        10       2     9               2   \ntop        e         x           y         n       f     n               f   \nfreq    4208      3656        3244      2284    4748  3528            7914   \n\n       gill-spacing gill-size gill-color   ...   stalk-surface-below-ring  \\\ncount          8124      8124       8124   ...                       8124   \nunique            2         2         12   ...                          4   \ntop               c         b          b   ...                          s   \nfreq           6812      5612       1728   ...                       4936   \n\n       stalk-color-above-ring stalk-color-below-ring veil-type veil-color  \\\ncount                    8124                   8124      8124       8124   \nunique                      9                      9         1          4   \ntop                         w                      w         p          w   \nfreq                     4464                   4384      8124       7924   \n\n       ring-number ring-type spore-print-color population habitat  \ncount         8124      8124              8124       8124    8124  \nunique           3         5                 9          6       7  \ntop              o         p                 w          v       d  \nfreq          7488      3968              2388       4040    3148  \n\n[4 rows x 23 columns]"
          },
          "metadata": {}
        }
      ]
    },
    {
      "metadata": {
        "trusted": true
      },
      "cell_type": "code",
      "source": "def convertCapShape(col):\n    col = str(col)\n    if col.startswith('b'):\n        return 1\n    if col.startswith('c'):\n        return 2\n    if col.startswith('x'):\n        return 3\n    if col.startswith('f'):\n        return 4\n    if col.startswith('k'):\n        return 5\n    if col.startswith('s'):\n        return 6\n    \ndef convertCapSurface(col):\n    col = str(col)\n    if col.startswith('f'):\n        return 1\n    if col.startswith('g'):\n        return 2\n    if col.startswith('y'):\n        return 3\n    if col.startswith('s'):\n        return 4\n    \ndef convertCapColor(col):\n    col = str(col)\n    if col.startswith('n'):\n        return 1\n    if col.startswith('b'):\n        return 2\n    if col.startswith('c'):\n        return 3\n    if col.startswith('g'):\n        return 4\n    if col.startswith('r'):\n        return 5\n    if col.startswith('p'):\n        return 6\n    if col.startswith('u'):\n        return 7\n    if col.startswith('e'):\n        return 8\n    if col.startswith('w'):\n        return 9\n    if col.startswith('y'):\n        return 10\n    \ndef convertOdor(col):\n    col = str(col)\n    if col.startswith('a'):\n        return 1\n    if col.startswith('l'):\n        return 2\n    if col.startswith('c'):\n        return 3\n    if col.startswith('y'):\n        return 4\n    if col.startswith('f'):\n        return 5\n    if col.startswith('m'):\n        return 6\n    if col.startswith('n'):\n        return 7\n    if col.startswith('p'):\n        return 8\n    if col.startswith('s'):\n        return 9\n    \ndef convertGillAttachment(col):\n    col = str(col)\n    if col.startswith('a'):\n        return 1\n    if col.startswith('d'):\n        return 2\n    if col.startswith('f'):\n        return 3\n    if col.startswith('n'):\n        return 4\n    \ndef convertGillSpacing(col):\n    col = str(col)\n    if col.startswith('c'):\n        return 1\n    if col.startswith('w'):\n        return 2\n    if col.startswith('d'):\n        return 3\n    \ndef convertGillColor(col):\n    col = str(col)\n    if col.startswith('k'):\n        return 1\n    if col.startswith('n'):\n        return 2\n    if col.startswith('b'):\n        return 3\n    if col.startswith('h'):\n        return 4\n    if col.startswith('g'):\n        return 5\n    if col.startswith('r'):\n        return 6\n    if col.startswith('o'):\n        return 7\n    if col.startswith('p'):\n        return 8\n    if col.startswith('u'):\n        return 9\n    if col.startswith('e'):\n        return 10\n    if col.startswith('w'):\n        return 11\n    if col.startswith('y'):\n        return 12\n    \ndef convertStalkRoot(col):\n    col = str(col)\n    if col.startswith('b'):\n        return 1\n    if col.startswith('c'):\n        return 2\n    if col.startswith('u'):\n        return 3\n    if col.startswith('e'):\n        return 4\n    if col.startswith('z'):\n        return 5\n    if col.startswith('r'):\n        return 6\n    if col.startswith('?'):\n        return 0\n\ndef convertStalkSurfaceRing(col):\n    col = str(col)\n    if col.startswith('f'):\n        return 1\n    if col.startswith('y'):\n        return 2\n    if col.startswith('k'):\n        return 3\n    if col.startswith('s'):\n        return 4\n\ndef convertStalkColorRing(col):\n    col = str(col)\n    if col.startswith('n'):\n        return 1\n    if col.startswith('b'):\n        return 2\n    if col.startswith('c'):\n        return 3\n    if col.startswith('g'):\n        return 4\n    if col.startswith('o'):\n        return 5\n    if col.startswith('p'):\n        return 6\n    if col.startswith('e'):\n        return 7\n    if col.startswith('w'):\n        return 8\n    if col.startswith('y'):\n        return 9\n    \ndef convertVeilColor(col):\n    col = str(col)\n    if col.startswith('n'):\n        return 1\n    if col.startswith('o'):\n        return 2\n    if col.startswith('w'):\n        return 3\n    if col.startswith('y'):\n        return 4\n    \ndef convertRingNumber(col):\n    col = str(col)\n    if col.startswith('n'):\n        return 1\n    if col.startswith('o'):\n        return 2\n    if col.startswith('t'):\n        return 3\n    \ndef convertRingType(col):\n    col = str(col)\n    if col.startswith('c'):\n        return 1\n    if col.startswith('e'):\n        return 2\n    if col.startswith('f'):\n        return 3\n    if col.startswith('l'):\n        return 4\n    if col.startswith('n'):\n        return 5\n    if col.startswith('p'):\n        return 6\n    if col.startswith('s'):\n        return 7\n    if col.startswith('z'):\n        return 8\n    \ndef convertSporePrintColor(col):\n    col = str(col)\n    if col.startswith('k'):\n        return 1\n    if col.startswith('n'):\n        return 2\n    if col.startswith('b'):\n        return 3\n    if col.startswith('h'):\n        return 4\n    if col.startswith('r'):\n        return 5\n    if col.startswith('o'):\n        return 6\n    if col.startswith('u'):\n        return 7\n    if col.startswith('w'):\n        return 8\n    if col.startswith('y'):\n        return 9\n    \ndef convertPopulation(col):\n    col = str(col)\n    if col.startswith('a'):\n        return 1\n    if col.startswith('c'):\n        return 2\n    if col.startswith('n'):\n        return 3\n    if col.startswith('s'):\n        return 4\n    if col.startswith('v'):\n        return 5\n    if col.startswith('y'):\n        return 6\n    \ndef convertHabitat(col):\n    col = str(col)\n    if col.startswith('g'):\n        return 1\n    if col.startswith('l'):\n        return 2\n    if col.startswith('m'):\n        return 3\n    if col.startswith('p'):\n        return 4\n    if col.startswith('u'):\n        return 5\n    if col.startswith('w'):\n        return 6\n    if col.startswith('d'):\n        return 7",
      "execution_count": 3,
      "outputs": []
    },
    {
      "metadata": {
        "trusted": true
      },
      "cell_type": "code",
      "source": "rows = mushroomsDataset.shape[0]\nmushroomsDataset['class']= np.where(mushroomsDataset['class']=='e', 1, 2)\nmushroomsDataset['cap-shape'] = mushroomsDataset['cap-shape'].apply(convertCapShape)\nmushroomsDataset['cap-surface'] = mushroomsDataset['cap-surface'].apply(convertCapSurface)\nmushroomsDataset['cap-color'] = mushroomsDataset['cap-color'].apply(convertCapColor)\nmushroomsDataset['bruises']= np.where(mushroomsDataset['bruises']=='t', 1, 2)\nmushroomsDataset['odor'] = mushroomsDataset['odor'].apply(convertOdor)\nmushroomsDataset['gill-attachment'] = mushroomsDataset['gill-attachment'].apply(convertGillAttachment)\nmushroomsDataset['gill-spacing'] = mushroomsDataset['gill-spacing'].apply(convertGillSpacing)\nmushroomsDataset['gill-size']= np.where(mushroomsDataset['gill-size']=='b', 1, 2)\nmushroomsDataset['gill-color'] = mushroomsDataset['gill-color'].apply(convertGillColor)\nmushroomsDataset['stalk-shape']= np.where(mushroomsDataset['stalk-shape']=='e', 1, 2)\nmushroomsDataset['stalk-root'] = mushroomsDataset['stalk-root'].apply(convertStalkRoot)\nmushroomsDataset['stalk-surface-above-ring'] = mushroomsDataset['stalk-surface-above-ring'].apply(convertStalkSurfaceRing)\nmushroomsDataset['stalk-surface-below-ring'] = mushroomsDataset['stalk-surface-below-ring'].apply(convertStalkSurfaceRing)\nmushroomsDataset['stalk-color-above-ring'] = mushroomsDataset['stalk-color-above-ring'].apply(convertStalkColorRing)\nmushroomsDataset['stalk-color-below-ring'] = mushroomsDataset['stalk-color-below-ring'].apply(convertStalkColorRing)\nmushroomsDataset['veil-type']= np.where(mushroomsDataset['veil-type']=='p', 1, 2)\nmushroomsDataset['veil-color'] = mushroomsDataset['veil-color'].apply(convertVeilColor)\nmushroomsDataset['ring-number'] = mushroomsDataset['ring-number'].apply(convertRingNumber)\nmushroomsDataset['ring-type'] = mushroomsDataset['ring-type'].apply(convertRingType)\nmushroomsDataset['spore-print-color'] = mushroomsDataset['spore-print-color'].apply(convertSporePrintColor)\nmushroomsDataset['population'] = mushroomsDataset['population'].apply(convertPopulation)\nmushroomsDataset['habitat'] = mushroomsDataset['habitat'].apply(convertHabitat)\ntrainData = mushroomsDataset[0:round(rows*0.8)]\ntestData = mushroomsDataset[(round(rows*0.8)):]",
      "execution_count": 4,
      "outputs": []
    },
    {
      "metadata": {
        "trusted": true
      },
      "cell_type": "code",
      "source": "trainX = trainData.drop('class', axis=1)\ntestX = testData.drop('class', axis=1)\ntrainY = trainData['class']\ntestY = testData['class']",
      "execution_count": 5,
      "outputs": []
    },
    {
      "metadata": {
        "trusted": true,
        "scrolled": true
      },
      "cell_type": "code",
      "source": "kategoricka_premenna = np_utils.to_categorical(trainY)\nkategoricka_premennaTrain = np_utils.to_categorical(testY)\nmodel = Sequential()\nmodel.add(Dense(30, input_dim=22, activation='relu'))\nmodel.add(Dense(30, activation='relu'))\nmodel.add(Dense(3, activation='sigmoid'))\nmodel.compile(loss='mean_squared_error',optimizer='adam',metrics=['accuracy'])\nmodel.fit(trainX,kategoricka_premenna, epochs=50)",
      "execution_count": 48,
      "outputs": [
        {
          "output_type": "stream",
          "text": "Epoch 1/50\n6499/6499 [==============================] - 1s 170us/step - loss: 0.1160 - acc: 0.7697\nEpoch 2/50\n6499/6499 [==============================] - 0s 65us/step - loss: 0.0372 - acc: 0.9403\nEpoch 3/50\n6499/6499 [==============================] - 1s 78us/step - loss: 0.0190 - acc: 0.9734\nEpoch 4/50\n6499/6499 [==============================] - 0s 74us/step - loss: 0.0122 - acc: 0.9812\nEpoch 5/50\n6499/6499 [==============================] - 0s 70us/step - loss: 0.0092 - acc: 0.9880\nEpoch 6/50\n6499/6499 [==============================] - 0s 62us/step - loss: 0.0061 - acc: 0.9928\nEpoch 7/50\n6499/6499 [==============================] - 0s 66us/step - loss: 0.0046 - acc: 0.9946\nEpoch 8/50\n6499/6499 [==============================] - 0s 61us/step - loss: 0.0036 - acc: 0.9962\nEpoch 9/50\n6499/6499 [==============================] - 0s 72us/step - loss: 0.0030 - acc: 0.9972\nEpoch 10/50\n6499/6499 [==============================] - 1s 77us/step - loss: 0.0028 - acc: 0.9962\nEpoch 11/50\n6499/6499 [==============================] - 1s 86us/step - loss: 0.0020 - acc: 0.9977\nEpoch 12/50\n6499/6499 [==============================] - 0s 75us/step - loss: 0.0019 - acc: 0.9977\nEpoch 13/50\n6499/6499 [==============================] - 0s 64us/step - loss: 0.0015 - acc: 0.9982\nEpoch 14/50\n6499/6499 [==============================] - 0s 73us/step - loss: 0.0013 - acc: 0.9985\nEpoch 15/50\n6499/6499 [==============================] - 0s 68us/step - loss: 0.0011 - acc: 0.9989\nEpoch 16/50\n6499/6499 [==============================] - 0s 74us/step - loss: 0.0012 - acc: 0.9980\nEpoch 17/50\n6499/6499 [==============================] - 0s 65us/step - loss: 9.4184e-04 - acc: 0.9989\nEpoch 18/50\n6499/6499 [==============================] - 0s 57us/step - loss: 8.5970e-04 - acc: 0.9991\nEpoch 19/50\n6499/6499 [==============================] - 0s 66us/step - loss: 4.9649e-04 - acc: 0.9994\nEpoch 20/50\n6499/6499 [==============================] - 0s 68us/step - loss: 3.4739e-04 - acc: 0.9995\nEpoch 21/50\n6499/6499 [==============================] - 0s 72us/step - loss: 2.2195e-04 - acc: 0.9998\nEpoch 22/50\n6499/6499 [==============================] - 0s 75us/step - loss: 4.0933e-04 - acc: 0.9995\nEpoch 23/50\n6499/6499 [==============================] - 0s 60us/step - loss: 2.4539e-04 - acc: 0.9997\nEpoch 24/50\n6499/6499 [==============================] - 0s 58us/step - loss: 1.0689e-04 - acc: 1.0000\nEpoch 25/50\n6499/6499 [==============================] - 0s 68us/step - loss: 6.5682e-05 - acc: 1.0000\nEpoch 26/50\n6499/6499 [==============================] - 1s 86us/step - loss: 7.9080e-05 - acc: 1.0000\nEpoch 27/50\n6499/6499 [==============================] - 1s 89us/step - loss: 1.2464e-04 - acc: 1.0000\nEpoch 28/50\n6499/6499 [==============================] - 0s 65us/step - loss: 9.0559e-05 - acc: 1.0000\nEpoch 29/50\n6499/6499 [==============================] - 0s 59us/step - loss: 3.3660e-05 - acc: 1.0000\nEpoch 30/50\n6499/6499 [==============================] - 0s 62us/step - loss: 2.2699e-05 - acc: 1.0000\nEpoch 31/50\n6499/6499 [==============================] - 0s 70us/step - loss: 2.3320e-05 - acc: 1.0000\nEpoch 32/50\n6499/6499 [==============================] - 0s 68us/step - loss: 3.1095e-05 - acc: 1.0000\nEpoch 33/50\n6499/6499 [==============================] - 0s 63us/step - loss: 2.0148e-05 - acc: 1.0000\nEpoch 34/50\n6499/6499 [==============================] - 0s 60us/step - loss: 2.1041e-05 - acc: 1.0000\nEpoch 35/50\n6499/6499 [==============================] - 0s 67us/step - loss: 1.3689e-05 - acc: 1.0000\nEpoch 36/50\n6499/6499 [==============================] - 0s 58us/step - loss: 1.5159e-05 - acc: 1.0000\nEpoch 37/50\n6499/6499 [==============================] - 0s 57us/step - loss: 1.2991e-05 - acc: 1.0000\nEpoch 38/50\n6499/6499 [==============================] - 0s 59us/step - loss: 9.4689e-06 - acc: 1.0000\nEpoch 39/50\n6499/6499 [==============================] - 0s 56us/step - loss: 1.1102e-05 - acc: 1.0000\nEpoch 40/50\n6499/6499 [==============================] - 0s 60us/step - loss: 8.9128e-06 - acc: 1.0000\nEpoch 41/50\n6499/6499 [==============================] - 0s 72us/step - loss: 7.0932e-06 - acc: 1.0000: 0s - loss: 7.0965e-06 - acc: 1.000\nEpoch 42/50\n6499/6499 [==============================] - 0s 68us/step - loss: 9.3239e-06 - acc: 1.0000\nEpoch 43/50\n6499/6499 [==============================] - 0s 60us/step - loss: 2.2054e-05 - acc: 1.0000\nEpoch 44/50\n6499/6499 [==============================] - 0s 54us/step - loss: 1.0173e-05 - acc: 1.0000\nEpoch 45/50\n6499/6499 [==============================] - 0s 58us/step - loss: 9.5987e-06 - acc: 1.0000\nEpoch 46/50\n6499/6499 [==============================] - 0s 61us/step - loss: 7.5920e-06 - acc: 1.0000\nEpoch 47/50\n6499/6499 [==============================] - 0s 62us/step - loss: 5.3665e-06 - acc: 1.0000\nEpoch 48/50\n6499/6499 [==============================] - 0s 59us/step - loss: 2.7052e-06 - acc: 1.0000\nEpoch 49/50\n6499/6499 [==============================] - 0s 57us/step - loss: 2.6009e-06 - acc: 1.0000\nEpoch 50/50\n6499/6499 [==============================] - 0s 56us/step - loss: 2.0585e-06 - acc: 1.0000\n",
          "name": "stdout"
        },
        {
          "output_type": "execute_result",
          "execution_count": 48,
          "data": {
            "text/plain": "<keras.callbacks.History at 0x7f09a639ec18>"
          },
          "metadata": {}
        }
      ]
    },
    {
      "metadata": {
        "trusted": true
      },
      "cell_type": "code",
      "source": "scores = model.evaluate(trainX, kategoricka_premenna)\nprint(\"\\nAccuracy: %.2f%%\" % (scores[1]*100))\nnezname = model.predict_classes(testX)\nconfusion_matrix(testY.values, nezname)",
      "execution_count": 49,
      "outputs": [
        {
          "output_type": "stream",
          "text": "6499/6499 [==============================] - 0s 70us/step\n\nAccuracy: 100.00%\n",
          "name": "stdout"
        },
        {
          "output_type": "execute_result",
          "execution_count": 49,
          "data": {
            "text/plain": "array([[ 504,    3],\n       [  17, 1101]])"
          },
          "metadata": {}
        }
      ]
    },
    {
      "metadata": {
        "trusted": true
      },
      "cell_type": "code",
      "source": "",
      "execution_count": null,
      "outputs": []
    }
  ],
  "metadata": {
    "kernelspec": {
      "name": "python36",
      "display_name": "Python 3.6",
      "language": "python"
    },
    "language_info": {
      "mimetype": "text/x-python",
      "nbconvert_exporter": "python",
      "name": "python",
      "pygments_lexer": "ipython3",
      "version": "3.6.6",
      "file_extension": ".py",
      "codemirror_mode": {
        "version": 3,
        "name": "ipython"
      }
    }
  },
  "nbformat": 4,
  "nbformat_minor": 2
}